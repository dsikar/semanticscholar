{
 "cells": [
  {
   "cell_type": "markdown",
   "metadata": {},
   "source": [
    "# IJCAI 2020 Word Clouds"
   ]
  },
  {
   "cell_type": "code",
   "execution_count": null,
   "metadata": {},
   "outputs": [],
   "source": [
    "# import library\n",
    "import sys\n",
    "sys.path.append('../src/')\n",
    "from helper_functions import getInfo, getAllInfo, wcloud"
   ]
  },
  {
   "cell_type": "code",
   "execution_count": null,
   "metadata": {},
   "outputs": [],
   "source": [
    "# IJCAI 2020 DOI suffix, we need to do it from 1 to 779\n",
    "# first\n",
    "# https://doi.org/10.24963/ijcai.2020/1 \n",
    "# last\n",
    "# https://doi.org/10.24963/ijcai.2020/779  \n",
    "suffix = '10.24963/ijcai.2020/'\n",
    "# ALL INFO\n",
    "start = 1\n",
    "end = 779\n",
    "IJCAI2020papers = getAllInfo(suffix, start, end)"
   ]
  },
  {
   "cell_type": "code",
   "execution_count": null,
   "metadata": {},
   "outputs": [],
   "source": [
    "import json\n",
    "with open('IJCAI2020papers.json', 'w') as f:\n",
    "    json.dump(IJCAI2020papers, f)"
   ]
  }
 ],
 "metadata": {
  "kernelspec": {
   "display_name": "Python 3",
   "language": "python",
   "name": "python3"
  },
  "language_info": {
   "codemirror_mode": {
    "name": "ipython",
    "version": 3
   },
   "file_extension": ".py",
   "mimetype": "text/x-python",
   "name": "python",
   "nbconvert_exporter": "python",
   "pygments_lexer": "ipython3",
   "version": "3.7.3"
  }
 },
 "nbformat": 4,
 "nbformat_minor": 5
}

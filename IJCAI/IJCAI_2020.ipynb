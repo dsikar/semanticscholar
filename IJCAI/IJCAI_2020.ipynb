{
 "cells": [
  {
   "cell_type": "markdown",
   "id": "611ef935",
   "metadata": {},
   "source": [
    "# IJCAI 2020 Word Clouds"
   ]
  },
  {
   "cell_type": "code",
   "execution_count": null,
   "id": "493442b0",
   "metadata": {},
   "outputs": [],
   "source": [
    "# import library\n",
    "import sys\n",
    "sys.path.append('../src/')\n",
    "from helper_functions import getInfo, getAllInfo, wcloud"
   ]
  },
  {
   "cell_type": "code",
   "execution_count": null,
   "id": "f051af76",
   "metadata": {},
   "outputs": [],
   "source": [
    "# IJCAI 2020 DOI suffix, we need to do it from 1 to 779\n",
    "# first\n",
    "# https://doi.org/10.24963/ijcai.2020/1 \n",
    "# last\n",
    "# https://doi.org/10.24963/ijcai.2020/779  \n",
    "suffix = '10.24963/ijcai.2020/'\n",
    "# ALL INFO\n",
    "start = 1\n",
    "end = 779\n",
    "IJCAI2020papers = getAllInfo(suffix, start, end)"
   ]
  },
  {
   "cell_type": "code",
   "execution_count": null,
   "id": "08070f96",
   "metadata": {},
   "outputs": [],
   "source": [
    "import json\n",
    "with open('IJCAI2020papers.json', 'w') as f:\n",
    "    json.dump(IJCAI2020papers, f)"
   ]
  }
 ],
 "metadata": {
  "kernelspec": {
   "display_name": "Python 3 (ipykernel)",
   "language": "python",
   "name": "python3"
  },
  "language_info": {
   "codemirror_mode": {
    "name": "ipython",
    "version": 3
   },
   "file_extension": ".py",
   "mimetype": "text/x-python",
   "name": "python",
   "nbconvert_exporter": "python",
   "pygments_lexer": "ipython3",
   "version": "3.7.7"
  }
 },
 "nbformat": 4,
 "nbformat_minor": 5
}

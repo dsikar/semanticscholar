{
 "cells": [
  {
   "cell_type": "markdown",
   "id": "8644c6bd",
   "metadata": {},
   "source": [
    "# IJCAI 2019 Word Clouds"
   ]
  },
  {
   "cell_type": "code",
   "execution_count": null,
   "id": "e49dec00",
   "metadata": {},
   "outputs": [],
   "source": [
    "# import library\n",
    "import sys\n",
    "sys.path.append('../src/')\n",
    "from helper_functions import getInfo, getAllInfo, wcloud"
   ]
  },
  {
   "cell_type": "code",
   "execution_count": null,
   "id": "8578b04c",
   "metadata": {},
   "outputs": [],
   "source": [
    "# IJCAI 2019 DOI suffix, we need to do it from 1 to 965\n",
    "# first\n",
    "# https://doi.org/10.24963/ijcai.2019/1 \n",
    "# last\n",
    "# https://doi.org/10.24963/ijcai.2019/965  \n",
    "suffix = '10.24963/ijcai.2019/'\n",
    "# ALL INFO\n",
    "start = 1\n",
    "end = 965\n",
    "IJCAI2019papers = getAllInfo(suffix, start, end)"
   ]
  },
  {
   "cell_type": "code",
   "execution_count": null,
   "id": "0ce8084d",
   "metadata": {},
   "outputs": [],
   "source": [
    "import json\n",
    "with open('IJCAI2019papers.json', 'w') as f:\n",
    "    json.dump(IJCAI2019papers, f)"
   ]
  }
 ],
 "metadata": {
  "kernelspec": {
   "display_name": "Python 3 (ipykernel)",
   "language": "python",
   "name": "python3"
  },
  "language_info": {
   "codemirror_mode": {
    "name": "ipython",
    "version": 3
   },
   "file_extension": ".py",
   "mimetype": "text/x-python",
   "name": "python",
   "nbconvert_exporter": "python",
   "pygments_lexer": "ipython3",
   "version": "3.7.7"
  }
 },
 "nbformat": 4,
 "nbformat_minor": 5
}
